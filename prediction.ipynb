{
 "cells": [
  {
   "cell_type": "code",
   "execution_count": 1,
   "metadata": {},
   "outputs": [
    {
     "name": "stdout",
     "output_type": "stream",
     "text": [
      "Collecting opencv-python-headless\n",
      "  Downloading opencv_python_headless-4.9.0.80-cp37-abi3-win_amd64.whl (38.5 MB)\n",
      "     ---------------------------------------- 38.5/38.5 MB 5.0 MB/s eta 0:00:00\n",
      "Requirement already satisfied: pyyaml in c:\\users\\alist\\anaconda3\\lib\\site-packages (6.0)\n",
      "Requirement already satisfied: numpy>=1.17.3 in c:\\users\\alist\\anaconda3\\lib\\site-packages (from opencv-python-headless) (1.21.5)\n",
      "Installing collected packages: opencv-python-headless\n",
      "Successfully installed opencv-python-headless-4.9.0.80\n",
      "Note: you may need to restart the kernel to use updated packages.\n",
      "Requirement already satisfied: numpy in c:\\users\\alist\\anaconda3\\lib\\site-packages (1.21.5)\n",
      "Requirement already satisfied: opencv-python-headless in c:\\users\\alist\\anaconda3\\lib\\site-packages (4.9.0.80)\n",
      "Note: you may need to restart the kernel to use updated packages.\n"
     ]
    }
   ],
   "source": [
    "%pip install opencv-python-headless pyyaml\n",
    "%pip install numpy opencv-python-headless"
   ]
  },
  {
   "cell_type": "code",
   "execution_count": 1,
   "metadata": {},
   "outputs": [],
   "source": [
    "import cv2\n",
    "import numpy as np\n",
    "import os\n",
    "import yaml\n",
    "from yaml.loader import SafeLoader"
   ]
  },
  {
   "cell_type": "code",
   "execution_count": 2,
   "metadata": {},
   "outputs": [
    {
     "name": "stdout",
     "output_type": "stream",
     "text": [
      "['person', 'car', 'chair', 'bottle', 'bird', 'sofa', 'cycle', 'horse', 'bus']\n"
     ]
    }
   ],
   "source": [
    "#load Yaml\n",
    "with open(r'C:\\Users\\alist\\OneDrive\\Desktop\\YOLO project\\1_datapreparation\\data.yaml', mode ='r') as f:\n",
    "    data_yaml = yaml.load(f,Loader=SafeLoader)\n",
    "    \n",
    "labels = data_yaml['names']\n",
    "print(labels)"
   ]
  },
  {
   "cell_type": "code",
   "execution_count": 3,
   "metadata": {},
   "outputs": [],
   "source": [
    "#load Yolo Model \n",
    "yolo = cv2.dnn.readNetFromONNX(r'C:\\Users\\alist\\OneDrive\\Desktop\\YOLO project\\prediction\\Model13\\weights\\best.onnx')\n",
    "yolo.setPreferableBackend(cv2.dnn.DNN_BACKEND_OPENCV)\n",
    "yolo.setPreferableTarget(cv2.dnn.DNN_TARGET_CPU)"
   ]
  },
  {
   "cell_type": "code",
   "execution_count": 4,
   "metadata": {},
   "outputs": [],
   "source": [
    "#open video file for bject detecttion\n",
    "video_path = r'C:\\Users\\alist\\OneDrive\\Desktop\\YOLO project\\prediction\\video.mp4'\n",
    "cap = cv2.VideoCapture(video_path)"
   ]
  },
  {
   "cell_type": "code",
   "execution_count": 10,
   "metadata": {},
   "outputs": [],
   "source": [
    "while True:\n",
    "    ret, frame = cap.read()\n",
    "    \n",
    "    if not ret: # if no frame is grabbed (end of the video), break out\n",
    "        break\n",
    "    #preprocess frame and performs YOLO object\n",
    "    max_rc = max(frame.shape[:2])\n",
    "    input_image = np.zeros((max_rc, max_rc, 3), dtype=np.unit8)\n",
    "    input_image[0:frame.shape[0],0:frame.shape[1]] = frame\n",
    "    INPUT_WH_YOLO = 640\n",
    "    blob = cv2.dnn.blobFromImage(input_image, 1/255, (INPUT_WH_YOLO, INPUT_WH_YOLO),swapRB =True, crop= False)\n",
    "    yolo.setINput(blob)\n",
    "    preds = yolo.forward()\n",
    "    \n",
    "    #process detection and draw boxes.\n",
    "    detection = preds[0] #extract detection for predictions\n",
    "    boxes = []    #list to store bounding boxes\n",
    "    confidences = []   #list to store confidences\n",
    "    classes = []   #list to store indices\n",
    "    \n",
    "    image_w, image_h = input_image.shape[:2] #get width and height\n",
    "    x_factor = image_w / INPUT_WH_YOLO\n",
    "    y_factor = image_h/ INPUT_WH_YOLO  #scaling factor for h\n",
    "    \n",
    "    for i in range(len(detection)): #Iterate through detection\n",
    "        row = detection[i]   #extract \n",
    "        confidences = row[4]\n",
    "        if confidences > 0.4:\n",
    "            class_score = row[5:].max()\n",
    "            class_id = row[5:].argmax()\n",
    "            if class_score > 0.25:\n",
    "                cx,cy,w,h = row[0:4]\n",
    "                left = int((cx - 0.5 * w) * x_factor)\n",
    "                top = int((cy - 0.5 * h) * y_factor)\n",
    "                width = int(w * x_factor)\n",
    "                height = int(h * y_factor)\n",
    "                box = np.array([left, top,left+ width, top+height])\n",
    "                \n",
    "                confidences.append(class_score)\n",
    "                boxes.append(box)\n",
    "                classes.append(class_id)\n",
    "    boxes_np = np.array(boxes)\n",
    "    confidences_np = np.array()\n",
    "    \n",
    "    #perform non-maximum suppression to remove redundant(duplicate) bounding boxes\n",
    "    output = cv2.dnn.NMSBoxes(boxes_np, confidences_np, 0.25, 0.45)\n",
    "    if len(output) >0 :\n",
    "        index = output.flatten()\n",
    "    else:\n",
    "        index = np.empty((0,), dtype=int)\n",
    "        \n",
    "    #draw bounding boxes and labels on the frame\n",
    "    for ind in index:\n",
    "        x , y, w, h = boxes_np[ind]\n",
    "        bb_conf = int(confidences_np[ind] * 100)\n",
    "        class_id = classes[ind]\n",
    "        class_name = labels[class_id]\n",
    "        \n",
    "        text = f'{class_name}:{bb_conf}%' #create label text\n",
    "        cv2.rectangle(frame, (x, y), (x + w, y+h), (0, 255,0),2)\n",
    "        cv2.rectangle(frame,(x,y -30),(x+w,y),(255,255,255), -1)\n",
    "        cv2.putText(frame, text, (x,y -10), cv2.FONT_HERSHEY_PLAIN, 0.7,(0,0,0),1)\n",
    "        \n",
    "    cv2.imshow('YOLO Object Detection', frame)\n",
    "    \n",
    "    if cv2.waitKey(1) & 0xFF == ord('q'):\n",
    "        break\n",
    "    \n",
    "\n",
    "cap.release()\n"
   ]
  },
  {
   "cell_type": "code",
   "execution_count": null,
   "metadata": {},
   "outputs": [],
   "source": []
  },
  {
   "cell_type": "code",
   "execution_count": null,
   "metadata": {},
   "outputs": [],
   "source": [
    "#preprocess frame and performs YOLO object\n"
   ]
  }
 ],
 "metadata": {
  "kernelspec": {
   "display_name": "base",
   "language": "python",
   "name": "python3"
  },
  "language_info": {
   "codemirror_mode": {
    "name": "ipython",
    "version": 3
   },
   "file_extension": ".py",
   "mimetype": "text/x-python",
   "name": "python",
   "nbconvert_exporter": "python",
   "pygments_lexer": "ipython3",
   "version": "3.9.13"
  }
 },
 "nbformat": 4,
 "nbformat_minor": 2
}
